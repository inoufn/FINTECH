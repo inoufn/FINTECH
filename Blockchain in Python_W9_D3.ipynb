{
 "cells": [
  {
   "cell_type": "markdown",
   "id": "f95e3f5e",
   "metadata": {},
   "source": [
    "# Basic Blockchain in Python Assignment "
   ]
  },
  {
   "cell_type": "markdown",
   "id": "d036a27f",
   "metadata": {},
   "source": [
    "* Advanced or adventurous students: feel free to change the above parameters and default arguments.\n",
    "* Todo:implement the initialization of the properties for this class.        "
   ]
  },
  {
   "cell_type": "markdown",
   "id": "3477c08c",
   "metadata": {},
   "source": [
    "* Todo: Use what you learned from your last assignment implement a sha256 solution to return the hex digest of the block_string, and return it. \n",
    "_______________________________________________________________\n",
    "* Todo: write the code for unconfirmed_transactions property.   \n",
    "* Todo: write the code for chain property.\n",
    "* Todo: add and initialize the difficulty property.\n",
    "_______________________________________________________________\n",
    "* Todo define get_last_block(self) -> Block, hint: consider an index to the last element in your chain property.\n",
    "* Todo define **proof_of_work(self, block:Block) -> str** \n",
    "* **Hint consider something similar to:**\n",
    "* computed_hash = how do we get the hash from a Block object? while not computed_hash.startswith('0' * Blockchain.difficulty):\n",
    "        block.nonce += 1\n",
    "        computed_hash = block.compute_hash()\n",
    "* Don't forget to return the hash. \n",
    "_______________________________________________________________\n",
    "* Todo define is_valid_proof(self, block:Block, block_hash:str) -> bool\n",
    "* **Hint,we want to return true if block_hash.startswith('0' * Blockchain.difficulty) AND if block_hash is in fact the hash of our block (maybe use block.compute_hash())**\n",
    "_______________________________________________________________\n",
    "* Todo define add_block(self, block:Block, proof:str) -> bool **Hints, we probably want to get the previous hash from get_last_block()**\n",
    "* Check if the previous hash matches the previous hash in the block argument. \n",
    "* Make use of **is_valid_proof** for block and proof to check if someone is trying to do something sneaky.for both of the above, let's return False early and return control the calling function if the block is not valid.\n",
    "* If we make it this far, we're in the clear. So let's add the hash to our block, append it to the chain,and return True. \n",
    "_______________________________________________________________\n",
    "* Todo: define add_new_transaction(self, transaction:dict) -> None\n",
    "* **Hint how do we append to a list? How do we do this for a property of our object (self). Ease one line function.**\n",
    "_______________________________________________________________\n",
    "* Todo, define mine(self) -> int:\n",
    "* **Hints: do we need to continue if our mempool is empty? Maybe return -1 if so.** \n",
    "\n",
    "consider retrieving the last block to a local variable make life easy. \n",
    "Let's make sure we use our Block constructor to create a new block with all the transactions we want to mine(all of them are fine)\n",
    "\n",
    "* **Hint: Block(index=last_block.index + 1,**\n",
    "\n",
    "* transactions=self.unconfirmed_transactions,\n",
    "* timestamp=time.time(),\n",
    "* previous_hash=last_block.hash)\n",
    " \n",
    "**Finally, let's be sure to use our handy proof_of_work function, add_block function, and to remember to reset our\n",
    "  unconfirmed_transactions (our mem-pool), before returning our new block index;**\n",
    "  _______________________________________________________________"
   ]
  },
  {
   "cell_type": "code",
   "execution_count": 1,
   "id": "075eb66a",
   "metadata": {},
   "outputs": [],
   "source": [
    "import hashlib \n",
    "import datetime \n",
    "from hashlib import sha256\n",
    "import json\n",
    "import time"
   ]
  },
  {
   "cell_type": "code",
   "execution_count": 2,
   "id": "b8b5c761",
   "metadata": {},
   "outputs": [],
   "source": [
    "class Block:\n",
    "    def __init__(self, index, transactions, timestamp, previous_hash, nonce=0):\n",
    "        self.index = index\n",
    "        self.transactions = transactions\n",
    "        self.timestamp = timestamp\n",
    "        self.previous_hash = previous_hash\n",
    "        self.nonce = nonce\n",
    "    \n",
    "    def compute_hash(self):\n",
    "        block_string = json.dumps(self.__dict__, sort_keys=True)\n",
    "        return sha256(block_string.encode()).hexdigest()"
   ]
  },
  {
   "cell_type": "code",
   "execution_count": 3,
   "id": "0539960c",
   "metadata": {},
   "outputs": [
    {
     "name": "stdout",
     "output_type": "stream",
     "text": [
      "<class '__main__.Block'>\n",
      "0000080636ad148fed5681f1c73b0a756049c26911b2580dfcb6b979d2419f7b\n",
      "<class '__main__.Block'>\n",
      "00000e7e88d6e188a65e1b4451e5c1604446bfe7b570e140725f99478036747e\n",
      "<class '__main__.Block'>\n",
      "00000ac71b964e29c36b98565b424b3b75b1a86a198f7b87f343b2b65417c632\n",
      "<class '__main__.Block'>\n",
      "000003d0b610218974a5efc3a41fd0f00c80892456bb001c31f984330c57e043\n",
      "<class '__main__.Block'>\n",
      "00000e701ed58f3c3857a80c0cdec953f44c426504e5e0d49ea7e877605e42f6\n",
      "<class '__main__.Block'>\n",
      "00000b1b932fd3a4ad16fe67bee8ac6185b40d1a186e0769754d564cd30345ed\n",
      "<class '__main__.Block'>\n",
      "000002836d0095ba1ed49cc019789bb5278d238f7bc223200e867f0a03d72c9a\n",
      "<class '__main__.Block'>\n",
      "000007c95e1c6311583ff2efaaddadea50f571d114be0b33f18667ead1804e7c\n",
      "<class '__main__.Block'>\n",
      "00000368725f089c5ae96a3f01e7caa5bf454556d28ff91b106503d4c47a9c85\n",
      "<__main__.Blockchain object at 0x7fbcaaab7370>\n"
     ]
    }
   ],
   "source": [
    "class Blockchain: \n",
    "    def __init__(self):\n",
    "        self.unconfirmed_transactions = [\"Ty pays Brent 1000 BTC\"]\n",
    "        self.chain = []\n",
    "        self.difficulty = 5\n",
    "        self.create_genesis_block()\n",
    "        \n",
    "    def create_genesis_block(self):\n",
    "        genesis_block = Block(0, [], str(datetime.datetime.now()), \"0\")\n",
    "        genesis_block.hash = genesis_block.compute_hash()\n",
    "        self.chain.append(genesis_block)\n",
    "    \n",
    "    def last_block(self):\n",
    "        return self.chain[-1]\n",
    "    \n",
    "    def proof_of_work(self, block):\n",
    "        block.nonce = 1\n",
    "        computed_hash = block.compute_hash()\n",
    "        while not computed_hash.startswith('0' * self.difficulty):\n",
    "            block.nonce += 1\n",
    "            computed_hash = block.compute_hash()\n",
    "        return computed_hash\n",
    "    \n",
    "    def is_valid_proof(self, block, block_hash):\n",
    "        return (block_hash.startswith('0' * self.difficulty) and\n",
    "                block_hash == block.compute_hash())\n",
    "    \n",
    "    def add_block(self, block, proof):\n",
    "        previous_hash = self.chain[-1].hash\n",
    "        if previous_hash != block.previous_hash:\n",
    "            return False\n",
    "        if not self.is_valid_proof(block, proof):\n",
    "            return False\n",
    "        block.hash = proof\n",
    "        self.chain.append(block)\n",
    "        return True\n",
    "    \n",
    "    def add_new_transaction(self, transaction):\n",
    "            self.unconfirmed_transactions.append(transaction)\n",
    " \n",
    "    def mine(self):\n",
    "        if not self.unconfirmed_transactions:\n",
    "            return False\n",
    " \n",
    "        last_block = self.chain[-1]\n",
    "        print(type(last_block))\n",
    "        new_block = Block(last_block.index + 1, self.unconfirmed_transactions, str(datetime.datetime.now()),last_block.hash)\n",
    " \n",
    "        proof = self.proof_of_work(new_block)\n",
    "        self.add_block(new_block, proof)\n",
    "        self.unconfirmed_transactions = [\"Ty pays Brent 1000 BTC\"]\n",
    "        return new_block.index\n",
    "\n",
    "blockchain = Blockchain()  \n",
    "while len(blockchain.chain) < 10:\n",
    "    blockchain.mine()\n",
    "    print(blockchain.chain[-1].hash)\n",
    "print(blockchain)"
   ]
  }
 ],
 "metadata": {
  "kernelspec": {
   "display_name": "Python 3 (ipykernel)",
   "language": "python",
   "name": "python3"
  },
  "language_info": {
   "codemirror_mode": {
    "name": "ipython",
    "version": 3
   },
   "file_extension": ".py",
   "mimetype": "text/x-python",
   "name": "python",
   "nbconvert_exporter": "python",
   "pygments_lexer": "ipython3",
   "version": "3.9.7"
  }
 },
 "nbformat": 4,
 "nbformat_minor": 5
}
